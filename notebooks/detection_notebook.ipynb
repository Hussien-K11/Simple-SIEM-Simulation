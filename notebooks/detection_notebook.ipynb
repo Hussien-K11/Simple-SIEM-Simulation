{
 "cells": [
  {
   "cell_type": "code",
   "execution_count": 1,
   "id": "177efcfc",
   "metadata": {
    "vscode": {
     "languageId": "plaintext"
    }
   },
   "outputs": [
    {
     "data": {
      "text/html": [
       "<div>\n",
       "<style scoped>\n",
       "    .dataframe tbody tr th:only-of-type {\n",
       "        vertical-align: middle;\n",
       "    }\n",
       "\n",
       "    .dataframe tbody tr th {\n",
       "        vertical-align: top;\n",
       "    }\n",
       "\n",
       "    .dataframe thead th {\n",
       "        text-align: right;\n",
       "    }\n",
       "</style>\n",
       "<table border=\"1\" class=\"dataframe\">\n",
       "  <thead>\n",
       "    <tr style=\"text-align: right;\">\n",
       "      <th></th>\n",
       "      <th>timestamp</th>\n",
       "      <th>username</th>\n",
       "      <th>source_ip</th>\n",
       "      <th>status</th>\n",
       "      <th>location</th>\n",
       "    </tr>\n",
       "  </thead>\n",
       "  <tbody>\n",
       "    <tr>\n",
       "      <th>0</th>\n",
       "      <td>2025-07-21 10:00:00</td>\n",
       "      <td>alice</td>\n",
       "      <td>192.168.1.5</td>\n",
       "      <td>FAIL</td>\n",
       "      <td>United Kingdom</td>\n",
       "    </tr>\n",
       "    <tr>\n",
       "      <th>1</th>\n",
       "      <td>2025-07-21 10:00:10</td>\n",
       "      <td>alice</td>\n",
       "      <td>192.168.1.5</td>\n",
       "      <td>FAIL</td>\n",
       "      <td>United Kingdom</td>\n",
       "    </tr>\n",
       "    <tr>\n",
       "      <th>2</th>\n",
       "      <td>2025-07-21 10:00:20</td>\n",
       "      <td>alice</td>\n",
       "      <td>192.168.1.5</td>\n",
       "      <td>FAIL</td>\n",
       "      <td>United Kingdom</td>\n",
       "    </tr>\n",
       "    <tr>\n",
       "      <th>3</th>\n",
       "      <td>2025-07-21 10:00:30</td>\n",
       "      <td>alice</td>\n",
       "      <td>192.168.1.5</td>\n",
       "      <td>FAIL</td>\n",
       "      <td>United Kingdom</td>\n",
       "    </tr>\n",
       "    <tr>\n",
       "      <th>4</th>\n",
       "      <td>2025-07-21 10:00:40</td>\n",
       "      <td>alice</td>\n",
       "      <td>192.168.1.5</td>\n",
       "      <td>FAIL</td>\n",
       "      <td>United Kingdom</td>\n",
       "    </tr>\n",
       "  </tbody>\n",
       "</table>\n",
       "</div>"
      ],
      "text/plain": [
       "             timestamp username    source_ip status        location\n",
       "0  2025-07-21 10:00:00    alice  192.168.1.5   FAIL  United Kingdom\n",
       "1  2025-07-21 10:00:10    alice  192.168.1.5   FAIL  United Kingdom\n",
       "2  2025-07-21 10:00:20    alice  192.168.1.5   FAIL  United Kingdom\n",
       "3  2025-07-21 10:00:30    alice  192.168.1.5   FAIL  United Kingdom\n",
       "4  2025-07-21 10:00:40    alice  192.168.1.5   FAIL  United Kingdom"
      ]
     },
     "execution_count": 1,
     "metadata": {},
     "output_type": "execute_result"
    }
   ],
   "source": [
    "import pandas as pd\n",
    "\n",
    "# Load auth logs\n",
    "df = pd.read_csv(\"../data/auth_logs.csv\")\n",
    "df.head()\n"
   ]
  },
  {
   "cell_type": "code",
   "execution_count": null,
   "id": "c83be04e-7573-4a61-97fb-9c436f426af3",
   "metadata": {},
   "outputs": [],
   "source": []
  }
 ],
 "metadata": {
  "kernelspec": {
   "display_name": "Python (venv)",
   "language": "python",
   "name": "venv"
  },
  "language_info": {
   "codemirror_mode": {
    "name": "ipython",
    "version": 3
   },
   "file_extension": ".py",
   "mimetype": "text/x-python",
   "name": "python",
   "nbconvert_exporter": "python",
   "pygments_lexer": "ipython3",
   "version": "3.13.5"
  }
 },
 "nbformat": 4,
 "nbformat_minor": 5
}
