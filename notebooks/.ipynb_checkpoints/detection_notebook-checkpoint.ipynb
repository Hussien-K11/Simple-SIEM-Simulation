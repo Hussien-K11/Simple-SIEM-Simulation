{
 "cells": [
  {
   "cell_type": "code",
   "execution_count": null,
   "id": "177efcfc",
   "metadata": {
    "vscode": {
     "languageId": "plaintext"
    }
   },
   "outputs": [],
   "source": [
    "import pandas as pd\n",
    "\n",
    "# Load newly generated authentication logs\n",
    "df = pd.read_csv(\"../data/auth_logs.csv\")\n",
    "\n",
    "# Preview first few rows\n",
    "df.head()\n",
    "\n"
   ]
  }
 ],
 "metadata": {
  "language_info": {
   "name": "python"
  }
 },
 "nbformat": 4,
 "nbformat_minor": 5
}
