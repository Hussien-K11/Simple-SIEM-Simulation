{
 "cells": [
  {
   "cell_type": "code",
   "execution_count": null,
   "id": "177efcfc",
   "metadata": {
    "vscode": {
     "languageId": "plaintext"
    }
   },
   "outputs": [],
   "source": [
    "import pandas as pd\n",
    "\n",
    "# Load auth logs\n",
    "df = pd.read_csv(\"../data/auth_logs.csv\")\n",
    "df.head()\n"
   ]
  }
 ],
 "metadata": {
  "language_info": {
   "name": "python"
  }
 },
 "nbformat": 4,
 "nbformat_minor": 5
}
